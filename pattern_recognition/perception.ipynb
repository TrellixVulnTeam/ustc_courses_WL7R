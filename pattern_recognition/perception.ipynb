{
 "cells": [
  {
   "cell_type": "markdown",
   "metadata": {},
   "source": [
    "# 模式识别第一次编程作业 简单的感知机模型训练"
   ]
  },
  {
   "cell_type": "markdown",
   "metadata": {},
   "source": [
    "## 黄志鹏 PB16150288"
   ]
  },
  {
   "cell_type": "markdown",
   "metadata": {},
   "source": [
    "### 实验分析总结\n",
    "###### 本次实验是一个小的感知机实现, 通过这次代码实现, 我对感知机算法, 和这种梯度下降的模型自学习思想理解更深了\n",
    "###### 下面是具体的代码和实验结果:"
   ]
  },
  {
   "cell_type": "code",
   "execution_count": 1,
   "metadata": {
    "collapsed": true
   },
   "outputs": [],
   "source": [
    "# 模式识别第一次编程作业 简单的感知机模型训练\n",
    "import numpy as np\n",
    "from matplotlib.lines import Line2D\n",
    "import matplotlib.pyplot as plt"
   ]
  },
  {
   "cell_type": "code",
   "execution_count": 2,
   "metadata": {
    "collapsed": false
   },
   "outputs": [
    {
     "name": "stdout",
     "output_type": "stream",
     "text": [
      "================================================================\n",
      "开始初始化数据:\n",
      "初始化输入的w1 类的数据有:\n",
      "[[0, 0], [0, 1]]\n",
      "初始化输入的w2 类的数据有:\n",
      "[[0, 0], [0, 1]]\n",
      "初始化的权向量为:\n",
      "[1, 1]\n"
     ]
    }
   ],
   "source": [
    "# 输入初始化数据\n",
    "print(\"=\" * 64)\n",
    "print(\"开始初始化数据:\")\n",
    "data1 = [[0, 0], [0, 1]]\n",
    "data2 = [[1, 0], [1, 1]]\n",
    "print(\"初始化输入的w1 类的数据有:\")\n",
    "print(data1)\n",
    "print(\"初始化输入的w2 类的数据有:\")\n",
    "print(data1)\n",
    "data1 = np.array(data1)\n",
    "data2 = np.array(data2)\n",
    "step = 0  # 迭代步数\n",
    "c = 1  # 固定比例因子为1\n",
    "Nc = 0  # 正确分类计数器\n",
    "w = [1, 1]\n",
    "print(\"初始化的权向量为:\")\n",
    "print(w)\n",
    "w = np.array(w)"
   ]
  },
  {
   "cell_type": "code",
   "execution_count": 3,
   "metadata": {
    "collapsed": false
   },
   "outputs": [
    {
     "name": "stdout",
     "output_type": "stream",
     "text": [
      "================================================================\n",
      "对权向量和数据进行增广处理\n",
      "w:\n",
      "[1 1 1]\n",
      "data1:\n",
      "[[0 0 1]\n",
      " [0 1 1]]\n",
      "data2:\n",
      "[[1 0 1]\n",
      " [1 1 1]]\n"
     ]
    }
   ],
   "source": [
    "# 对数据和权向量进行增广\n",
    "print(\"=\" * 64)\n",
    "print(\"对权向量和数据进行增广处理\")\n",
    "\n",
    "w = np.pad(w, (0, 1), 'constant', constant_values=1)\n",
    "print(\"w:\")\n",
    "print(w)\n",
    "\n",
    "data1 = np.pad(data1, ((0, 0), (0, 1)), 'constant', constant_values=1)\n",
    "print(\"data1:\")\n",
    "print(data1)\n",
    "\n",
    "data2 = np.pad(data2, ((0, 0), (0, 1)), 'constant', constant_values=1)\n",
    "print(\"data2:\")\n",
    "print(data2)"
   ]
  },
  {
   "cell_type": "code",
   "execution_count": 4,
   "metadata": {
    "collapsed": false
   },
   "outputs": [
    {
     "name": "stdout",
     "output_type": "stream",
     "text": [
      "================================================================\n",
      "归一化处理数据:\n",
      "data = append(data1, data2* -1)\n",
      "data:\n",
      "[[ 0  0  1]\n",
      " [ 0  1  1]\n",
      " [-1  0 -1]\n",
      " [-1 -1 -1]]\n"
     ]
    }
   ],
   "source": [
    "# 归一化处理数据\n",
    "print(\"=\" * 64)\n",
    "print(\"归一化处理数据:\")\n",
    "print(\"data = append(data1, data2* -1)\")\n",
    "data = np.append(data1, -1*data2, axis=0)\n",
    "print(\"data:\")\n",
    "print(data)"
   ]
  },
  {
   "cell_type": "code",
   "execution_count": 5,
   "metadata": {
    "collapsed": false
   },
   "outputs": [
    {
     "name": "stdout",
     "output_type": "stream",
     "text": [
      "================================================================\n",
      "开始算法迭代:\n",
      "||   step   ||  result  ||        w         ||\n",
      "||    1     ||    1     ||     [1 1 1]      ||\n",
      "||    2     ||    2     ||     [1 1 1]      ||\n",
      "||    3     ||    -2    ||     [0 1 0]      ||\n",
      "||    4     ||    -1    ||    [-1  0 -1]    ||\n",
      "||    5     ||    -1    ||    [-1  0  0]    ||\n",
      "||    6     ||    0     ||    [-1  1  1]    ||\n",
      "||    7     ||    0     ||    [-2  1  0]    ||\n",
      "||    8     ||    1     ||    [-2  1  0]    ||\n",
      "||    9     ||    0     ||    [-2  1  1]    ||\n",
      "||    10    ||    2     ||    [-2  1  1]    ||\n",
      "||    11    ||    1     ||    [-2  1  1]    ||\n",
      "||    12    ||    0     ||    [-3  0  0]    ||\n",
      "||    13    ||    0     ||    [-3  0  1]    ||\n",
      "||    14    ||    1     ||    [-3  0  1]    ||\n",
      "||    15    ||    2     ||    [-3  0  1]    ||\n",
      "||    16    ||    2     ||    [-3  0  1]    ||\n"
     ]
    }
   ],
   "source": [
    "# 感知机算法迭代\n",
    "print(\"=\" * 64)\n",
    "print(\"开始算法迭代:\")\n",
    "s = \"|| {:^8} || {:^8} || {:^16} ||\"\n",
    "w_sum = []\n",
    "print(s.format(\"step\", \"result\", \"w\"))\n",
    "while Nc < 4:\n",
    "    point = step % 4\n",
    "    test = data[point]\n",
    "    result = test.dot(w.transpose())\n",
    "    if result <= 0:\n",
    "        w += test*c\n",
    "        Nc = 1 # 对Nc进行刷新\n",
    "    else:\n",
    "        Nc += 1\n",
    "    step += 1\n",
    "    print(s.format(step, result, np.array2string(w)))\n",
    "    w_sum.append(w.copy())\n"
   ]
  },
  {
   "cell_type": "code",
   "execution_count": 6,
   "metadata": {
    "collapsed": false
   },
   "outputs": [
    {
     "name": "stdout",
     "output_type": "stream",
     "text": [
      "================================================================\n",
      "1\n",
      "[1 1 1]\n"
     ]
    },
    {
     "data": {
      "image/png": "[encoded data removed]",
      "text/plain": [
       "<Figure size 432x288 with 1 Axes>"
      ]
     },
     "metadata": {},
     "output_type": "display_data"
    },
    {
     "name": "stdout",
     "output_type": "stream",
     "text": [
      "2\n",
      "[1 1 1]\n"
     ]
    },
    {
     "data": {
      "image/png": "[encoded data removed]",
      "text/plain": [
       "<Figure size 432x288 with 1 Axes>"
      ]
     },
     "metadata": {},
     "output_type": "display_data"
    },
    {
     "name": "stdout",
     "output_type": "stream",
     "text": [
      "3\n",
      "[0 1 0]\n"
     ]
    },
    {
     "data": {
      "image/png": "[encoded data removed]",
      "text/plain": [
       "<Figure size 432x288 with 1 Axes>"
      ]
     },
     "metadata": {},
     "output_type": "display_data"
    },
    {
     "name": "stdout",
     "output_type": "stream",
     "text": [
      "4\n",
      "[-1  0 -1]\n"
     ]
    },
    {
     "data": {
      "image/png": "[encoded data removed]",
      "text/plain": [
       "<Figure size 432x288 with 1 Axes>"
      ]
     },
     "metadata": {},
     "output_type": "display_data"
    },
    {
     "name": "stdout",
     "output_type": "stream",
     "text": [
      "5\n",
      "[-1  0  0]\n"
     ]
    },
    {
     "data": {
      "image/png": "[encoded data removed]",
      "text/plain": [
       "<Figure size 432x288 with 1 Axes>"
      ]
     },
     "metadata": {},
     "output_type": "display_data"
    },
    {
     "name": "stdout",
     "output_type": "stream",
     "text": [
      "6\n",
      "[-1  1  1]\n"
     ]
    },
    {
     "data": {
      "image/png": "[encoded data removed]",
      "text/plain": [
       "<Figure size 432x288 with 1 Axes>"
      ]
     },
     "metadata": {},
     "output_type": "display_data"
    },
    {
     "name": "stdout",
     "output_type": "stream",
     "text": [
      "7\n",
      "[-2  1  0]\n"
     ]
    },
    {
     "data": {
      "image/png": "[encoded data removed]",
      "text/plain": [
       "<Figure size 432x288 with 1 Axes>"
      ]
     },
     "metadata": {},
     "output_type": "display_data"
    },
    {
     "name": "stdout",
     "output_type": "stream",
     "text": [
      "8\n",
      "[-2  1  0]\n"
     ]
    },
    {
     "data": {
      "image/png": "[encoded data removed]",
      "text/plain": [
       "<Figure size 432x288 with 1 Axes>"
      ]
     },
     "metadata": {},
     "output_type": "display_data"
    },
    {
     "name": "stdout",
     "output_type": "stream",
     "text": [
      "9\n",
      "[-2  1  1]\n"
     ]
    },
    {
     "data": {
      "image/png": "[encoded data removed]",
      "text/plain": [
       "<Figure size 432x288 with 1 Axes>"
      ]
     },
     "metadata": {},
     "output_type": "display_data"
    },
    {
     "name": "stdout",
     "output_type": "stream",
     "text": [
      "10\n",
      "[-2  1  1]\n"
     ]
    },
    {
     "data": {
      "image/png": "[encoded data removed]",
      "text/plain": [
       "<Figure size 432x288 with 1 Axes>"
      ]
     },
     "metadata": {},
     "output_type": "display_data"
    },
    {
     "name": "stdout",
     "output_type": "stream",
     "text": [
      "11\n",
      "[-2  1  1]\n"
     ]
    },
    {
     "data": {
      "image/png": "[encoded data removed]",
      "text/plain": [
       "<Figure size 432x288 with 1 Axes>"
      ]
     },
     "metadata": {},
     "output_type": "display_data"
    },
    {
     "name": "stdout",
     "output_type": "stream",
     "text": [
      "12\n",
      "[-3  0  0]\n"
     ]
    },
    {
     "data": {
      "image/png": "[encoded data removed]",
      "text/plain": [
       "<Figure size 432x288 with 1 Axes>"
      ]
     },
     "metadata": {},
     "output_type": "display_data"
    },
    {
     "name": "stdout",
     "output_type": "stream",
     "text": [
      "13\n",
      "[-3  0  1]\n"
     ]
    },
    {
     "data": {
      "image/png": "[encoded data removed]",
      "text/plain": [
       "<Figure size 432x288 with 1 Axes>"
      ]
     },
     "metadata": {},
     "output_type": "display_data"
    },
    {
     "name": "stdout",
     "output_type": "stream",
     "text": [
      "14\n",
      "[-3  0  1]\n"
     ]
    },
    {
     "data": {
      "image/png": "[encoded data removed]",
      "text/plain": [
       "<Figure size 432x288 with 1 Axes>"
      ]
     },
     "metadata": {},
     "output_type": "display_data"
    },
    {
     "name": "stdout",
     "output_type": "stream",
     "text": [
      "15\n",
      "[-3  0  1]\n"
     ]
    },
    {
     "data": {
      "image/png": "[encoded data removed]",
      "text/plain": [
       "<Figure size 432x288 with 1 Axes>"
      ]
     },
     "metadata": {},
     "output_type": "display_data"
    },
    {
     "name": "stdout",
     "output_type": "stream",
     "text": [
      "16\n",
      "[-3  0  1]\n"
     ]
    },
    {
     "data": {
      "image/png": "[encoded data removed]",
      "text/plain": [
       "<Figure size 432x288 with 1 Axes>"
      ]
     },
     "metadata": {},
     "output_type": "display_data"
    }
   ],
   "source": [
    "# 可视化结果\n",
    "print(\"=\" * 64)\n",
    "for i in range(len(w_sum)):\n",
    "    w = w_sum[i]\n",
    "    print(i + 1)\n",
    "    print(w)\n",
    "    figure, ax = plt.subplots()\n",
    "    ax.set_aspect(\"equal\")\n",
    "    ax.scatter(data[0][0], data[0][1], c='r')  # 绘制数据点\n",
    "    ax.scatter(data[1][0], data[1][1], c='r')\n",
    "    ax.scatter(-data[2][0], -data[2][1], c='g')\n",
    "    ax.scatter(-data[3][0], -data[3][1], c='g')\n",
    "    u = w[0]\n",
    "    v = w[1]\n",
    "    z = w[2]\n",
    "    # 方程是 ux + vy + z = 0, 即 y = -u/v * x - z/v, x = -v/u * y - z/u\n",
    "    # 下面绘制直线\n",
    "    if(u != 0):\n",
    "        point1 = [-v/u * (-4) - z/u, -4]\n",
    "        point2 = [-v/u * 4- z/u, 4]\n",
    "    elif(v != 0):\n",
    "        point1 = [-4, -u/v * (-4) - z/v]\n",
    "        point2 = [4, -u/v * 4 - z/v]\n",
    "    else:\n",
    "        point1 = [0, z]\n",
    "        point2 = [0, z]\n",
    "    points = (point1, point2)\n",
    "    (line1_xs, line1_ys) = zip(*points)\n",
    "    ax.add_line(Line2D(line1_xs, line1_ys, linewidth=1, color='blue'))\n",
    "    ax.set_xlim([-5, 5])\n",
    "    ax.set_ylim([-5, 5])\n",
    "    plt.show()"
   ]
  },
  {
   "cell_type": "code",
   "execution_count": null,
   "metadata": {
    "collapsed": true
   },
   "outputs": [],
   "source": []
  }
 ],
 "metadata": {
  "anaconda-cloud": {},
  "kernelspec": {
   "display_name": "Python [default]",
   "language": "python",
   "name": "python3"
  },
  "language_info": {
   "codemirror_mode": {
    "name": "ipython",
    "version": 3
   },
   "file_extension": ".py",
   "mimetype": "text/x-python",
   "name": "python",
   "nbconvert_exporter": "python",
   "pygments_lexer": "ipython3",
   "version": "3.5.6"
  }
 },
 "nbformat": 4,
 "nbformat_minor": 2
}
